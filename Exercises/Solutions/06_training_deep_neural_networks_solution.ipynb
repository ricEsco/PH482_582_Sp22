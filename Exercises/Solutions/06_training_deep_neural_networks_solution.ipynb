{
 "cells": [
  {
   "cell_type": "markdown",
   "metadata": {},
   "source": [
    "# Training Deep Neural Networks"
   ]
  },
  {
   "cell_type": "markdown",
   "metadata": {},
   "source": [
    "<table align=\"left\">\n",
    "  <td>\n",
    "    <a target=\"_blank\" href=\"https://colab.research.google.com/github/UAPH4582/PH482_582/blob/main/HW3_training_deep_neural_networks.ipynb\"><img src=\"https://www.tensorflow.org/images/colab_logo_32px.png\" />Run in Google Colab</a>\n",
    "  </td>\n",
    "</table>"
   ]
  },
  {
   "cell_type": "code",
   "execution_count": 1,
   "metadata": {},
   "outputs": [],
   "source": [
    "group_name = \"\"\n",
    "names = [\"a\", \"b\", \"c\"]"
   ]
  },
  {
   "cell_type": "markdown",
   "metadata": {},
   "source": [
    "Due date: 2022-03-14\n",
    "\n",
    "File name convention: For group 42 and memebers Richard Stallman and Linus Torvalds it would be \n",
    "\"05_training_deep_neural_networks.pdf\".\n",
    "\n",
    "Submission via blackboard (UA) or Google Form (see notion, LPC).\n",
    "\n",
    "Feel free to answer free text questions in text cells using markdown and possibly $\\LaTeX{}$ if you want to.\n",
    "\n",
    "**You don't have to understand every line of code here and it is not intended for you to try to understand every line of code.   \n",
    "Big blocks of code are usually meant to just be clicked through.**"
   ]
  },
  {
   "cell_type": "markdown",
   "metadata": {},
   "source": [
    "# Setup"
   ]
  },
  {
   "cell_type": "code",
   "execution_count": 2,
   "metadata": {},
   "outputs": [],
   "source": [
    "# Python ≥3.5 is required\n",
    "import sys\n",
    "assert sys.version_info >= (3, 5)\n",
    "\n",
    "# Scikit-Learn ≥0.20 is required\n",
    "import sklearn\n",
    "assert sklearn.__version__ >= \"0.20\"\n",
    "\n",
    "# TensorFlow ≥2.0 is required\n",
    "import tensorflow as tf\n",
    "from tensorflow import keras\n",
    "assert tf.__version__ >= \"2.0\"\n",
    "\n",
    "%load_ext tensorboard\n",
    "\n",
    "# Common imports\n",
    "import numpy as np\n",
    "import os\n",
    "\n",
    "# to make this notebook's output stable across runs\n",
    "np.random.seed(42)\n",
    "\n",
    "# To plot pretty figures\n",
    "%matplotlib inline\n",
    "import matplotlib as mpl\n",
    "import matplotlib.pyplot as plt\n",
    "mpl.rc('axes', labelsize=14)\n",
    "mpl.rc('xtick', labelsize=12)\n",
    "mpl.rc('ytick', labelsize=12)"
   ]
  },
  {
   "cell_type": "markdown",
   "metadata": {},
   "source": [
    "# Vanishing/Exploding Gradients Problem"
   ]
  },
  {
   "cell_type": "markdown",
   "metadata": {},
   "source": [
    "### TASK 1: Sigmoid, Relu, Leaky Relu"
   ]
  },
  {
   "cell_type": "code",
   "execution_count": 3,
   "metadata": {},
   "outputs": [],
   "source": [
    "def logit(z):\n",
    "    return 1 / (1 + np.exp(-z))"
   ]
  },
  {
   "cell_type": "code",
   "execution_count": 4,
   "metadata": {},
   "outputs": [
    {
     "data": {
      "image/png": "[encoded data removed]",
      "text/plain": [
       "<Figure size 432x288 with 1 Axes>"
      ]
     },
     "metadata": {
      "needs_background": "light"
     },
     "output_type": "display_data"
    }
   ],
   "source": [
    "z = np.linspace(-5, 5, 200)\n",
    "\n",
    "plt.plot([-5, 5], [0, 0], 'k-')\n",
    "plt.plot([-5, 5], [1, 1], 'k--')\n",
    "plt.plot([0, 0], [-0.2, 1.2], 'k-')\n",
    "plt.plot([-5, 5], [-3/4, 7/4], 'g--')\n",
    "plt.plot(z, logit(z), \"b-\", linewidth=2)\n",
    "props = dict(facecolor='black', shrink=0.1)\n",
    "plt.annotate('', xytext=(3.5, 0.7), xy=(5, 1), arrowprops=props, fontsize=14, ha=\"center\")\n",
    "plt.annotate('', xytext=(-3.5, 0.3), xy=(-5, 0), arrowprops=props, fontsize=14, ha=\"center\")\n",
    "plt.annotate('', xytext=(2, 0.2), xy=(0, 0.5), arrowprops=props, fontsize=14, ha=\"center\")\n",
    "plt.grid(True)\n",
    "plt.title(\"Sigmoid activation function\", fontsize=14)\n",
    "plt.axis([-5, 5, -0.2, 1.2])\n",
    "\n",
    "plt.show()"
   ]
  },
  {
   "cell_type": "markdown",
   "metadata": {},
   "source": [
    "**Task 1 a)** Describe the sigmoid activation function."
   ]
  },
  {
   "cell_type": "markdown",
   "metadata": {
    "id": "nsnymzLuLvm2"
   },
   "source": [
    "↓↓↓↓↓↓↓↓↓↓↓↓↓↓↓↓↓↓↓↓↓↓↓↓↓↓↓↓↓↓↓ your code goes below"
   ]
  },
  {
   "cell_type": "markdown",
   "metadata": {},
   "source": [
    "Task 1 a) answer: "
   ]
  },
  {
   "cell_type": "markdown",
   "metadata": {},
   "source": [
    "↑↑↑↑↑↑↑↑↑↑↑↑↑↑↑↑↑↑↑↑↑↑↑↑↑↑↑↑↑↑↑ your code goes above"
   ]
  },
  {
   "cell_type": "markdown",
   "metadata": {},
   "source": [
    "### Leaky ReLU"
   ]
  },
  {
   "cell_type": "markdown",
   "metadata": {},
   "source": [
    "**Task 1 b)** Write the [leaky relu](https://en.wikipedia.org/wiki/Rectifier_(neural_networks)#Leaky_ReLU) function `leaky_relu(z)`.\n",
    "It should take `z` as argument and also another optional argument `alpha` with default value 0.01.\n",
    "The leaky relu funciton is defined to be `alpha*z` for z<0 and `z` for z>0.\n",
    "\n",
    "(alterntively you can think about using `np.maximum` to make the distinction, assuming alpha>0)"
   ]
  },
  {
   "cell_type": "markdown",
   "metadata": {
    "id": "nsnymzLuLvm2"
   },
   "source": [
    "↓↓↓↓↓↓↓↓↓↓↓↓↓↓↓↓↓↓↓↓↓↓↓↓↓↓↓↓↓↓↓ your code goes below"
   ]
  },
  {
   "cell_type": "code",
   "execution_count": 5,
   "metadata": {},
   "outputs": [],
   "source": [
    "def leaky_relu(z, alpha=0.01):\n",
    "    return np.maximum(alpha*z, z)"
   ]
  },
  {
   "cell_type": "markdown",
   "metadata": {},
   "source": [
    "↑↑↑↑↑↑↑↑↑↑↑↑↑↑↑↑↑↑↑↑↑↑↑↑↑↑↑↑↑↑↑ your code goes above"
   ]
  },
  {
   "cell_type": "code",
   "execution_count": 6,
   "metadata": {},
   "outputs": [
    {
     "data": {
      "image/png": "[encoded data removed]",
      "text/plain": [
       "<Figure size 432x288 with 1 Axes>"
      ]
     },
     "metadata": {
      "needs_background": "light"
     },
     "output_type": "display_data"
    }
   ],
   "source": [
    "plt.plot(z, leaky_relu(z, 0.05), \"b-\", linewidth=2)\n",
    "plt.plot([-5, 5], [0, 0], 'k-')\n",
    "plt.plot([0, 0], [-0.5, 4.2], 'k-')\n",
    "plt.grid(True)\n",
    "props = dict(facecolor='black', shrink=0.1)\n",
    "plt.annotate('', xytext=(-3.5, 0.5), xy=(-5, -0.2), arrowprops=props, fontsize=14, ha=\"center\")\n",
    "plt.title(\"Leaky ReLU activation function\", fontsize=14)\n",
    "plt.axis([-5, 5, -0.5, 4.2])\n",
    "\n",
    "plt.show()"
   ]
  },
  {
   "cell_type": "markdown",
   "metadata": {},
   "source": [
    "**Task 1c)** Describe the difference between relu and leaky relu?\n",
    "Also explain why one might want to use leaky relu."
   ]
  },
  {
   "cell_type": "markdown",
   "metadata": {
    "id": "nsnymzLuLvm2"
   },
   "source": [
    "↓↓↓↓↓↓↓↓↓↓↓↓↓↓↓↓↓↓↓↓↓↓↓↓↓↓↓↓↓↓↓ your code goes below"
   ]
  },
  {
   "cell_type": "markdown",
   "metadata": {},
   "source": [
    "Task 1c) answer:"
   ]
  },
  {
   "cell_type": "markdown",
   "metadata": {},
   "source": [
    "↑↑↑↑↑↑↑↑↑↑↑↑↑↑↑↑↑↑↑↑↑↑↑↑↑↑↑↑↑↑↑ your code goes above"
   ]
  },
  {
   "cell_type": "markdown",
   "metadata": {},
   "source": [
    "##### Let's train a neural network on Fashion MNIST using the Leaky ReLU:"
   ]
  },
  {
   "cell_type": "code",
   "execution_count": 7,
   "metadata": {},
   "outputs": [],
   "source": [
    "# load fashion MNIST + train_test split\n",
    "(X_train_full, y_train_full), (X_test, y_test) = keras.datasets.fashion_mnist.load_data()\n",
    "X_train_full = X_train_full / 255.0\n",
    "X_test = X_test / 255.0\n",
    "X_valid, X_train = X_train_full[:5000], X_train_full[5000:]\n",
    "y_valid, y_train = y_train_full[:5000], y_train_full[5000:]"
   ]
  },
  {
   "cell_type": "code",
   "execution_count": null,
   "metadata": {},
   "outputs": [],
   "source": [
    "tf.random.set_seed(42)\n",
    "np.random.seed(42)\n",
    "\n",
    "model = keras.models.Sequential([\n",
    "    keras.layers.Flatten(input_shape=[28, 28]),\n",
    "    keras.layers.Dense(300, kernel_initializer=\"he_normal\"),\n",
    "    keras.layers.LeakyReLU(),\n",
    "    keras.layers.Dense(100, kernel_initializer=\"he_normal\"),\n",
    "    keras.layers.LeakyReLU(),\n",
    "    keras.layers.Dense(10, activation=\"softmax\")\n",
    "])"
   ]
  },
  {
   "cell_type": "code",
   "execution_count": 9,
   "metadata": {},
   "outputs": [],
   "source": [
    "model.compile(loss=\"sparse_categorical_crossentropy\",\n",
    "              optimizer=keras.optimizers.SGD(learning_rate=1e-3),\n",
    "              metrics=[\"accuracy\"])"
   ]
  },
  {
   "cell_type": "code",
   "execution_count": 10,
   "metadata": {
    "scrolled": true
   },
   "outputs": [
    {
     "name": "stdout",
     "output_type": "stream",
     "text": [
      "Epoch 1/10\n",
      "  57/1719 [..............................] - ETA: 4s - loss: 2.2482 - accuracy: 0.1749"
     ]
    },
    {
     "name": "stderr",
     "output_type": "stream",
     "text": [
      "2022-03-08 09:13:01.814464: I tensorflow/stream_executor/cuda/cuda_blas.cc:1786] TensorFloat-32 will be used for the matrix multiplication. This will only be logged once.\n"
     ]
    },
    {
     "name": "stdout",
     "output_type": "stream",
     "text": [
      "1719/1719 [==============================] - 7s 3ms/step - loss: 1.2819 - accuracy: 0.6228 - val_loss: 0.8886 - val_accuracy: 0.7158\n",
      "Epoch 2/10\n",
      "1719/1719 [==============================] - 6s 3ms/step - loss: 0.7955 - accuracy: 0.7361 - val_loss: 0.7130 - val_accuracy: 0.7658\n",
      "Epoch 3/10\n",
      "1719/1719 [==============================] - 5s 3ms/step - loss: 0.6816 - accuracy: 0.7720 - val_loss: 0.6427 - val_accuracy: 0.7894\n",
      "Epoch 4/10\n",
      "1719/1719 [==============================] - 5s 3ms/step - loss: 0.6217 - accuracy: 0.7945 - val_loss: 0.5900 - val_accuracy: 0.8064\n",
      "Epoch 5/10\n",
      "1719/1719 [==============================] - 5s 3ms/step - loss: 0.5832 - accuracy: 0.8075 - val_loss: 0.5582 - val_accuracy: 0.8196\n",
      "Epoch 6/10\n",
      "1719/1719 [==============================] - 5s 3ms/step - loss: 0.5553 - accuracy: 0.8156 - val_loss: 0.5350 - val_accuracy: 0.8236\n",
      "Epoch 7/10\n",
      "1719/1719 [==============================] - 5s 3ms/step - loss: 0.5338 - accuracy: 0.8225 - val_loss: 0.5157 - val_accuracy: 0.8304\n",
      "Epoch 8/10\n",
      "1719/1719 [==============================] - 5s 3ms/step - loss: 0.5173 - accuracy: 0.8272 - val_loss: 0.5079 - val_accuracy: 0.8284\n",
      "Epoch 9/10\n",
      "1719/1719 [==============================] - 5s 3ms/step - loss: 0.5040 - accuracy: 0.8289 - val_loss: 0.4895 - val_accuracy: 0.8390\n",
      "Epoch 10/10\n",
      "1719/1719 [==============================] - 5s 3ms/step - loss: 0.4924 - accuracy: 0.8320 - val_loss: 0.4817 - val_accuracy: 0.8394\n"
     ]
    }
   ],
   "source": [
    "history = model.fit(X_train, y_train, epochs=10,\n",
    "                    validation_data=(X_valid, y_valid))"
   ]
  },
  {
   "cell_type": "markdown",
   "metadata": {},
   "source": [
    "### TASK 2: ELU\n",
    "**Task 2 a)** Describe the [ELU activation](https://paperswithcode.com/method/elu) function and compare to LeakyRelu. The definition is described in Chapter 11 or alternatively [here](https://paperswithcode.com/method/elu).   "
   ]
  },
  {
   "cell_type": "markdown",
   "metadata": {
    "id": "nsnymzLuLvm2"
   },
   "source": [
    "↓↓↓↓↓↓↓↓↓↓↓↓↓↓↓↓↓↓↓↓↓↓↓↓↓↓↓↓↓↓↓ your code goes below"
   ]
  },
  {
   "cell_type": "markdown",
   "metadata": {},
   "source": [
    "Task 2 a) answer:"
   ]
  },
  {
   "cell_type": "markdown",
   "metadata": {},
   "source": [
    "↑↑↑↑↑↑↑↑↑↑↑↑↑↑↑↑↑↑↑↑↑↑↑↑↑↑↑↑↑↑↑ your code goes above"
   ]
  },
  {
   "cell_type": "markdown",
   "metadata": {},
   "source": [
    "**Task 2 b)** Similar to `leaky_relu` above, write the function `elu(z)` with optional argument `alpha=1` (meaning that the default value is 1)."
   ]
  },
  {
   "cell_type": "markdown",
   "metadata": {
    "id": "nsnymzLuLvm2"
   },
   "source": [
    "↓↓↓↓↓↓↓↓↓↓↓↓↓↓↓↓↓↓↓↓↓↓↓↓↓↓↓↓↓↓↓ your code goes below"
   ]
  },
  {
   "cell_type": "code",
   "execution_count": 11,
   "metadata": {},
   "outputs": [],
   "source": [
    "def elu(z, alpha=1):\n",
    "    return np.where(z < 0, alpha * (np.exp(z) - 1), z)"
   ]
  },
  {
   "cell_type": "markdown",
   "metadata": {},
   "source": [
    "↑↑↑↑↑↑↑↑↑↑↑↑↑↑↑↑↑↑↑↑↑↑↑↑↑↑↑↑↑↑↑ your code goes above"
   ]
  },
  {
   "cell_type": "code",
   "execution_count": 12,
   "metadata": {},
   "outputs": [
    {
     "data": {
      "image/png": "[encoded data removed]",
      "text/plain": [
       "<Figure size 432x288 with 1 Axes>"
      ]
     },
     "metadata": {
      "needs_background": "light"
     },
     "output_type": "display_data"
    }
   ],
   "source": [
    "plt.plot(z, elu(z), \"b-\", linewidth=2)\n",
    "plt.plot([-5, 5], [0, 0], 'k-')\n",
    "plt.plot([-5, 5], [-1, -1], 'k--')\n",
    "plt.plot([0, 0], [-2.2, 3.2], 'k-')\n",
    "plt.grid(True)\n",
    "plt.title(r\"ELU activation function ($\\alpha=1$)\", fontsize=14)\n",
    "plt.annotate('', xytext=(-3.5, 0), xy=(-4, -1), arrowprops=props, fontsize=14, ha=\"center\")\n",
    "plt.axis([-5, 5, -2.2, 3.2])\n",
    "\n",
    "plt.show()"
   ]
  },
  {
   "cell_type": "code",
   "execution_count": 13,
   "metadata": {},
   "outputs": [],
   "source": [
    "tf.random.set_seed(42)\n",
    "np.random.seed(42)"
   ]
  },
  {
   "cell_type": "markdown",
   "metadata": {},
   "source": [
    "To use the elu activation function in TensorFlow you need to specify the activation function when building each layer (Check on https://keras.io/api/layers/activations/ for some examples): `activation='relu'`"
   ]
  },
  {
   "cell_type": "markdown",
   "metadata": {},
   "source": [
    "**Task 2 c)** Using the layers from the previous model (LeakyRelu), train with ELU activation"
   ]
  },
  {
   "cell_type": "markdown",
   "metadata": {
    "id": "nsnymzLuLvm2"
   },
   "source": [
    "↓↓↓↓↓↓↓↓↓↓↓↓↓↓↓↓↓↓↓↓↓↓↓↓↓↓↓↓↓↓↓ your code goes below"
   ]
  },
  {
   "cell_type": "code",
   "execution_count": 14,
   "metadata": {},
   "outputs": [],
   "source": [
    "### model = ..."
   ]
  },
  {
   "cell_type": "code",
   "execution_count": 15,
   "metadata": {},
   "outputs": [],
   "source": [
    "model = keras.models.Sequential([\n",
    "    keras.layers.Flatten(input_shape=[28, 28]),\n",
    "    keras.layers.Dense(300, activation = \"elu\", kernel_initializer=\"he_normal\"),\n",
    "    keras.layers.Dense(100, activation = \"elu\", kernel_initializer=\"he_normal\"),\n",
    "    keras.layers.Dense(10, activation=\"softmax\")\n",
    "])"
   ]
  },
  {
   "cell_type": "markdown",
   "metadata": {},
   "source": [
    "↑↑↑↑↑↑↑↑↑↑↑↑↑↑↑↑↑↑↑↑↑↑↑↑↑↑↑↑↑↑↑ your code goes above"
   ]
  },
  {
   "cell_type": "code",
   "execution_count": 16,
   "metadata": {},
   "outputs": [],
   "source": [
    "model.compile(loss=\"sparse_categorical_crossentropy\",\n",
    "              optimizer=keras.optimizers.SGD(learning_rate=1e-3),\n",
    "              metrics=[\"accuracy\"])"
   ]
  },
  {
   "cell_type": "code",
   "execution_count": 17,
   "metadata": {},
   "outputs": [
    {
     "name": "stdout",
     "output_type": "stream",
     "text": [
      "Epoch 1/10\n",
      "1719/1719 [==============================] - 6s 3ms/step - loss: 1.1201 - accuracy: 0.6462 - val_loss: 0.7927 - val_accuracy: 0.7376\n",
      "Epoch 2/10\n",
      "1719/1719 [==============================] - 6s 3ms/step - loss: 0.7228 - accuracy: 0.7569 - val_loss: 0.6571 - val_accuracy: 0.7820\n",
      "Epoch 3/10\n",
      "1719/1719 [==============================] - 7s 4ms/step - loss: 0.6316 - accuracy: 0.7878 - val_loss: 0.5999 - val_accuracy: 0.8022\n",
      "Epoch 4/10\n",
      "1719/1719 [==============================] - 6s 4ms/step - loss: 0.5824 - accuracy: 0.8044 - val_loss: 0.5562 - val_accuracy: 0.8216\n",
      "Epoch 5/10\n",
      "1719/1719 [==============================] - 6s 4ms/step - loss: 0.5508 - accuracy: 0.8149 - val_loss: 0.5306 - val_accuracy: 0.8268\n",
      "Epoch 6/10\n",
      "1719/1719 [==============================] - 6s 4ms/step - loss: 0.5281 - accuracy: 0.8201 - val_loss: 0.5113 - val_accuracy: 0.8296\n",
      "Epoch 7/10\n",
      "1719/1719 [==============================] - 6s 3ms/step - loss: 0.5108 - accuracy: 0.8254 - val_loss: 0.4957 - val_accuracy: 0.8344\n",
      "Epoch 8/10\n",
      "1719/1719 [==============================] - 6s 4ms/step - loss: 0.4975 - accuracy: 0.8300 - val_loss: 0.4888 - val_accuracy: 0.8340\n",
      "Epoch 9/10\n",
      "1719/1719 [==============================] - 6s 3ms/step - loss: 0.4867 - accuracy: 0.8315 - val_loss: 0.4744 - val_accuracy: 0.8406\n",
      "Epoch 10/10\n",
      "1719/1719 [==============================] - 6s 3ms/step - loss: 0.4771 - accuracy: 0.8351 - val_loss: 0.4679 - val_accuracy: 0.8426\n"
     ]
    }
   ],
   "source": [
    "history = model.fit(X_train, y_train, epochs=10,\n",
    "                    validation_data=(X_valid, y_valid))"
   ]
  },
  {
   "cell_type": "markdown",
   "metadata": {},
   "source": [
    "## Task 3: Batch Normalization\n",
    "**Task 3 a)** Build a NN with two hidden layers with 300 and 100 nodes. Use RELU as activation function. Add [BatchNormalization](https://keras.io/api/layers/normalization_layers/batch_normalization/) layers before each dense layer (check the definition in Chapter 11)   "
   ]
  },
  {
   "cell_type": "markdown",
   "metadata": {
    "id": "nsnymzLuLvm2"
   },
   "source": [
    "↓↓↓↓↓↓↓↓↓↓↓↓↓↓↓↓↓↓↓↓↓↓↓↓↓↓↓↓↓↓↓ your code goes below"
   ]
  },
  {
   "cell_type": "code",
   "execution_count": 18,
   "metadata": {},
   "outputs": [],
   "source": [
    "model = keras.models.Sequential([\n",
    "    keras.layers.Flatten(input_shape=[28, 28]),\n",
    "    keras.layers.BatchNormalization(),\n",
    "    keras.layers.Dense(300, activation=\"relu\"),\n",
    "    keras.layers.BatchNormalization(),\n",
    "    keras.layers.Dense(100, activation=\"relu\"),\n",
    "    keras.layers.BatchNormalization(),\n",
    "    keras.layers.Dense(10, activation=\"softmax\")\n",
    "])"
   ]
  },
  {
   "cell_type": "code",
   "execution_count": 19,
   "metadata": {},
   "outputs": [],
   "source": [
    "model = keras.models.Sequential([\n",
    "    keras.layers.Flatten(input_shape=[28, 28]),\n",
    "    # ↓↓↓↓↓↓↓↓↓↓↓↓↓↓↓↓↓↓↓↓↓↓↓↓↓↓↓↓↓↓↓ \n",
    "\n",
    "    # ↑↑↑↑↑↑↑↑↑↑↑↑↑↑↑↑↑↑↑↑↑↑↑↑↑↑↑↑↑↑↑ \n",
    "    keras.layers.Dense(10, activation=\"softmax\")\n",
    "])"
   ]
  },
  {
   "cell_type": "markdown",
   "metadata": {},
   "source": [
    "↑↑↑↑↑↑↑↑↑↑↑↑↑↑↑↑↑↑↑↑↑↑↑↑↑↑↑↑↑↑↑ your code goes above"
   ]
  },
  {
   "cell_type": "code",
   "execution_count": 20,
   "metadata": {},
   "outputs": [],
   "source": [
    "model.compile(loss=\"sparse_categorical_crossentropy\",\n",
    "              optimizer=keras.optimizers.SGD(learning_rate=1e-3),\n",
    "              metrics=[\"accuracy\"])"
   ]
  },
  {
   "cell_type": "code",
   "execution_count": 21,
   "metadata": {},
   "outputs": [
    {
     "data": {
      "image/png": "[encoded data removed]",
      "text/plain": [
       "<IPython.core.display.Image object>"
      ]
     },
     "execution_count": 21,
     "metadata": {},
     "output_type": "execute_result"
    }
   ],
   "source": [
    "keras.utils.plot_model(model, show_shapes=True)"
   ]
  },
  {
   "cell_type": "code",
   "execution_count": 22,
   "metadata": {},
   "outputs": [
    {
     "name": "stdout",
     "output_type": "stream",
     "text": [
      "Epoch 1/25\n",
      "1719/1719 [==============================] - 5s 3ms/step - loss: 1.5106 - accuracy: 0.5519 - val_loss: 1.1230 - val_accuracy: 0.6748\n",
      "Epoch 2/25\n",
      "1719/1719 [==============================] - 5s 3ms/step - loss: 1.0174 - accuracy: 0.6863 - val_loss: 0.9184 - val_accuracy: 0.7140\n",
      "Epoch 3/25\n",
      "1719/1719 [==============================] - 5s 3ms/step - loss: 0.8827 - accuracy: 0.7207 - val_loss: 0.8280 - val_accuracy: 0.7442\n",
      "Epoch 4/25\n",
      "1719/1719 [==============================] - 5s 3ms/step - loss: 0.8118 - accuracy: 0.7437 - val_loss: 0.7715 - val_accuracy: 0.7636\n",
      "Epoch 5/25\n",
      "1719/1719 [==============================] - 5s 3ms/step - loss: 0.7652 - accuracy: 0.7581 - val_loss: 0.7333 - val_accuracy: 0.7762\n",
      "Epoch 6/25\n",
      "1719/1719 [==============================] - 5s 3ms/step - loss: 0.7312 - accuracy: 0.7691 - val_loss: 0.7041 - val_accuracy: 0.7842\n",
      "Epoch 7/25\n",
      "1719/1719 [==============================] - 4s 3ms/step - loss: 0.7047 - accuracy: 0.7773 - val_loss: 0.6807 - val_accuracy: 0.7914\n",
      "Epoch 8/25\n",
      "1719/1719 [==============================] - 5s 3ms/step - loss: 0.6836 - accuracy: 0.7837 - val_loss: 0.6624 - val_accuracy: 0.7948\n",
      "Epoch 9/25\n",
      "1719/1719 [==============================] - 5s 3ms/step - loss: 0.6660 - accuracy: 0.7892 - val_loss: 0.6462 - val_accuracy: 0.7984\n",
      "Epoch 10/25\n",
      "1719/1719 [==============================] - 5s 3ms/step - loss: 0.6510 - accuracy: 0.7935 - val_loss: 0.6325 - val_accuracy: 0.8044\n",
      "Epoch 11/25\n",
      "1719/1719 [==============================] - 5s 3ms/step - loss: 0.6381 - accuracy: 0.7965 - val_loss: 0.6213 - val_accuracy: 0.8058\n",
      "Epoch 12/25\n",
      "1719/1719 [==============================] - 5s 3ms/step - loss: 0.6268 - accuracy: 0.8001 - val_loss: 0.6111 - val_accuracy: 0.8076\n",
      "Epoch 13/25\n",
      "1719/1719 [==============================] - 5s 3ms/step - loss: 0.6168 - accuracy: 0.8030 - val_loss: 0.6010 - val_accuracy: 0.8114\n",
      "Epoch 14/25\n",
      "1719/1719 [==============================] - 6s 3ms/step - loss: 0.6079 - accuracy: 0.8044 - val_loss: 0.5936 - val_accuracy: 0.8134\n",
      "Epoch 15/25\n",
      "1719/1719 [==============================] - 5s 3ms/step - loss: 0.5999 - accuracy: 0.8065 - val_loss: 0.5858 - val_accuracy: 0.8158\n",
      "Epoch 16/25\n",
      "1719/1719 [==============================] - 6s 3ms/step - loss: 0.5926 - accuracy: 0.8091 - val_loss: 0.5797 - val_accuracy: 0.8186\n",
      "Epoch 17/25\n",
      "1719/1719 [==============================] - 5s 3ms/step - loss: 0.5859 - accuracy: 0.8108 - val_loss: 0.5734 - val_accuracy: 0.8210\n",
      "Epoch 18/25\n",
      "1719/1719 [==============================] - 6s 3ms/step - loss: 0.5798 - accuracy: 0.8129 - val_loss: 0.5674 - val_accuracy: 0.8220\n",
      "Epoch 19/25\n",
      "1719/1719 [==============================] - 5s 3ms/step - loss: 0.5742 - accuracy: 0.8144 - val_loss: 0.5629 - val_accuracy: 0.8234\n",
      "Epoch 20/25\n",
      "1719/1719 [==============================] - 5s 3ms/step - loss: 0.5691 - accuracy: 0.8156 - val_loss: 0.5572 - val_accuracy: 0.8264\n",
      "Epoch 21/25\n",
      "1719/1719 [==============================] - 5s 3ms/step - loss: 0.5642 - accuracy: 0.8169 - val_loss: 0.5528 - val_accuracy: 0.8278\n",
      "Epoch 22/25\n",
      "1719/1719 [==============================] - 5s 3ms/step - loss: 0.5597 - accuracy: 0.8182 - val_loss: 0.5485 - val_accuracy: 0.8280\n",
      "Epoch 23/25\n",
      "1719/1719 [==============================] - 4s 3ms/step - loss: 0.5554 - accuracy: 0.8190 - val_loss: 0.5445 - val_accuracy: 0.8304\n",
      "Epoch 24/25\n",
      "1719/1719 [==============================] - 5s 3ms/step - loss: 0.5514 - accuracy: 0.8198 - val_loss: 0.5410 - val_accuracy: 0.8306\n",
      "Epoch 25/25\n",
      "1719/1719 [==============================] - 4s 3ms/step - loss: 0.5478 - accuracy: 0.8215 - val_loss: 0.5380 - val_accuracy: 0.8302\n"
     ]
    }
   ],
   "source": [
    "history = model.fit(X_train, y_train, epochs=25,\n",
    "                    validation_data=(X_valid, y_valid))"
   ]
  },
  {
   "cell_type": "markdown",
   "metadata": {},
   "source": [
    "**Task 3 b)** Explain what batch normalization does and discuss the results of above training."
   ]
  },
  {
   "cell_type": "markdown",
   "metadata": {
    "id": "nsnymzLuLvm2"
   },
   "source": [
    "↓↓↓↓↓↓↓↓↓↓↓↓↓↓↓↓↓↓↓↓↓↓↓↓↓↓↓↓↓↓↓ your code goes below"
   ]
  },
  {
   "cell_type": "markdown",
   "metadata": {},
   "source": [
    "Task 3b) answer:"
   ]
  },
  {
   "cell_type": "markdown",
   "metadata": {},
   "source": [
    "↑↑↑↑↑↑↑↑↑↑↑↑↑↑↑↑↑↑↑↑↑↑↑↑↑↑↑↑↑↑↑ your code goes above"
   ]
  },
  {
   "cell_type": "markdown",
   "metadata": {},
   "source": [
    "## Task 4: Reusing a Keras model"
   ]
  },
  {
   "cell_type": "markdown",
   "metadata": {},
   "source": [
    "Let's split the fashion MNIST training set in two:\n",
    "* `X_train_A`: all images of all items except for sandals and shirts (classes 5 and 6).\n",
    "* `X_train_B`: a much smaller training set of just the first 200 images of sandals or shirts.\n",
    "\n",
    "The validation set and the test set are also split this way, but without restricting the number of images.\n",
    "\n",
    "We will train a model on set A (classification task with 8 classes), and try to reuse it to tackle set B (binary classification). We hope to transfer a little bit of knowledge from task A to task B, since classes in set A (sneakers, ankle boots, coats, t-shirts, etc.) are somewhat similar to classes in set B (sandals and shirts). However, since we are using `Dense` layers, only patterns that occur at the same location can be reused (in contrast, convolutional layers will transfer much better, since learned patterns can be detected anywhere on the image, as we will see in the CNN chapter)."
   ]
  },
  {
   "cell_type": "code",
   "execution_count": 23,
   "metadata": {},
   "outputs": [],
   "source": [
    "def split_dataset(X, y):\n",
    "    y_5_or_6 = (y == 5) | (y == 6) # sandals or shirts\n",
    "    y_A = y[~y_5_or_6]\n",
    "    y_A[y_A > 6] -= 2 # class indices 7, 8, 9 should be moved to 5, 6, 7\n",
    "    y_B = (y[y_5_or_6] == 6).astype(np.float32) # binary classification task: is it a shirt (class 6)?\n",
    "    return ((X[~y_5_or_6], y_A),\n",
    "            (X[y_5_or_6], y_B))\n",
    "\n",
    "(X_train_A, y_train_A), (X_train_B, y_train_B) = split_dataset(X_train, y_train)\n",
    "(X_valid_A, y_valid_A), (X_valid_B, y_valid_B) = split_dataset(X_valid, y_valid)\n",
    "(X_test_A, y_test_A), (X_test_B, y_test_B) = split_dataset(X_test, y_test)\n",
    "X_train_B = X_train_B[:200]\n",
    "y_train_B = y_train_B[:200]"
   ]
  },
  {
   "cell_type": "code",
   "execution_count": 24,
   "metadata": {},
   "outputs": [
    {
     "data": {
      "text/plain": [
       "(43986, 28, 28)"
      ]
     },
     "execution_count": 24,
     "metadata": {},
     "output_type": "execute_result"
    }
   ],
   "source": [
    "X_train_A.shape"
   ]
  },
  {
   "cell_type": "code",
   "execution_count": 25,
   "metadata": {},
   "outputs": [
    {
     "data": {
      "text/plain": [
       "(200, 28, 28)"
      ]
     },
     "execution_count": 25,
     "metadata": {},
     "output_type": "execute_result"
    }
   ],
   "source": [
    "X_train_B.shape"
   ]
  },
  {
   "cell_type": "code",
   "execution_count": 26,
   "metadata": {},
   "outputs": [
    {
     "data": {
      "text/plain": [
       "array([4, 0, 5, 7, 7, 7, 4, 4, 3, 4, 0, 1, 6, 3, 4, 3, 2, 6, 5, 3, 4, 5,\n",
       "       1, 3, 4, 2, 0, 6, 7, 1], dtype=uint8)"
      ]
     },
     "execution_count": 26,
     "metadata": {},
     "output_type": "execute_result"
    }
   ],
   "source": [
    "y_train_A[:30]"
   ]
  },
  {
   "cell_type": "code",
   "execution_count": 27,
   "metadata": {},
   "outputs": [
    {
     "data": {
      "text/plain": [
       "array([1., 1., 0., 0., 0., 0., 1., 1., 1., 0., 0., 1., 1., 0., 0., 0., 0.,\n",
       "       0., 0., 1., 1., 0., 0., 1., 1., 0., 1., 1., 1., 1.], dtype=float32)"
      ]
     },
     "execution_count": 27,
     "metadata": {},
     "output_type": "execute_result"
    }
   ],
   "source": [
    "y_train_B[:30]"
   ]
  },
  {
   "cell_type": "code",
   "execution_count": 28,
   "metadata": {},
   "outputs": [],
   "source": [
    "tf.random.set_seed(42)\n",
    "np.random.seed(42)"
   ]
  },
  {
   "cell_type": "code",
   "execution_count": 29,
   "metadata": {},
   "outputs": [],
   "source": [
    "model_A = keras.models.Sequential()\n",
    "model_A.add(keras.layers.Flatten(input_shape=[28, 28]))\n",
    "for n_hidden in (300, 100, 50, 50, 50):\n",
    "    model_A.add(keras.layers.Dense(n_hidden, activation=\"selu\"))\n",
    "model_A.add(keras.layers.Dense(8, activation=\"softmax\"))"
   ]
  },
  {
   "cell_type": "code",
   "execution_count": 30,
   "metadata": {},
   "outputs": [
    {
     "name": "stderr",
     "output_type": "stream",
     "text": [
      "/home/mknipfer/anaconda3/envs/DelayLineDetector/lib/python3.10/site-packages/keras/optimizer_v2/gradient_descent.py:102: UserWarning: The `lr` argument is deprecated, use `learning_rate` instead.\n",
      "  super(SGD, self).__init__(name, **kwargs)\n"
     ]
    }
   ],
   "source": [
    "model_A.compile(loss=\"sparse_categorical_crossentropy\",\n",
    "                optimizer=keras.optimizers.SGD(lr=1e-3),\n",
    "                metrics=[\"accuracy\"])"
   ]
  },
  {
   "cell_type": "code",
   "execution_count": 31,
   "metadata": {},
   "outputs": [
    {
     "name": "stdout",
     "output_type": "stream",
     "text": [
      "Epoch 1/20\n",
      "1375/1375 [==============================] - 5s 3ms/step - loss: 0.5927 - accuracy: 0.8104 - val_loss: 0.3894 - val_accuracy: 0.8662\n",
      "Epoch 2/20\n",
      "1375/1375 [==============================] - 5s 3ms/step - loss: 0.3523 - accuracy: 0.8786 - val_loss: 0.3287 - val_accuracy: 0.8832\n",
      "Epoch 3/20\n",
      "1375/1375 [==============================] - 6s 4ms/step - loss: 0.3170 - accuracy: 0.8895 - val_loss: 0.3014 - val_accuracy: 0.8986\n",
      "Epoch 4/20\n",
      "1375/1375 [==============================] - 5s 4ms/step - loss: 0.2973 - accuracy: 0.8975 - val_loss: 0.2894 - val_accuracy: 0.9016\n",
      "Epoch 5/20\n",
      "1375/1375 [==============================] - 6s 4ms/step - loss: 0.2835 - accuracy: 0.9020 - val_loss: 0.2773 - val_accuracy: 0.9066\n",
      "Epoch 6/20\n",
      "1375/1375 [==============================] - 6s 4ms/step - loss: 0.2730 - accuracy: 0.9061 - val_loss: 0.2736 - val_accuracy: 0.9076\n",
      "Epoch 7/20\n",
      "1375/1375 [==============================] - 6s 4ms/step - loss: 0.2642 - accuracy: 0.9093 - val_loss: 0.2715 - val_accuracy: 0.9088\n",
      "Epoch 8/20\n",
      "1375/1375 [==============================] - 5s 4ms/step - loss: 0.2573 - accuracy: 0.9127 - val_loss: 0.2590 - val_accuracy: 0.9141\n",
      "Epoch 9/20\n",
      "1375/1375 [==============================] - 6s 4ms/step - loss: 0.2519 - accuracy: 0.9137 - val_loss: 0.2562 - val_accuracy: 0.9141\n",
      "Epoch 10/20\n",
      "1375/1375 [==============================] - 6s 4ms/step - loss: 0.2469 - accuracy: 0.9156 - val_loss: 0.2541 - val_accuracy: 0.9163\n",
      "Epoch 11/20\n",
      "1375/1375 [==============================] - 6s 4ms/step - loss: 0.2423 - accuracy: 0.9177 - val_loss: 0.2496 - val_accuracy: 0.9148\n",
      "Epoch 12/20\n",
      "1375/1375 [==============================] - 6s 5ms/step - loss: 0.2383 - accuracy: 0.9186 - val_loss: 0.2510 - val_accuracy: 0.9118\n",
      "Epoch 13/20\n",
      "1375/1375 [==============================] - 4s 3ms/step - loss: 0.2351 - accuracy: 0.9198 - val_loss: 0.2445 - val_accuracy: 0.9155\n",
      "Epoch 14/20\n",
      "1375/1375 [==============================] - 5s 3ms/step - loss: 0.2315 - accuracy: 0.9211 - val_loss: 0.2417 - val_accuracy: 0.9170\n",
      "Epoch 15/20\n",
      "1375/1375 [==============================] - 4s 3ms/step - loss: 0.2288 - accuracy: 0.9212 - val_loss: 0.2449 - val_accuracy: 0.9193\n",
      "Epoch 16/20\n",
      "1375/1375 [==============================] - 5s 3ms/step - loss: 0.2254 - accuracy: 0.9223 - val_loss: 0.2383 - val_accuracy: 0.9193\n",
      "Epoch 17/20\n",
      "1375/1375 [==============================] - 5s 3ms/step - loss: 0.2230 - accuracy: 0.9234 - val_loss: 0.2411 - val_accuracy: 0.9173\n",
      "Epoch 18/20\n",
      "1375/1375 [==============================] - 5s 4ms/step - loss: 0.2201 - accuracy: 0.9245 - val_loss: 0.2426 - val_accuracy: 0.9158\n",
      "Epoch 19/20\n",
      "1375/1375 [==============================] - 5s 4ms/step - loss: 0.2178 - accuracy: 0.9255 - val_loss: 0.2329 - val_accuracy: 0.9203\n",
      "Epoch 20/20\n",
      "1375/1375 [==============================] - 6s 4ms/step - loss: 0.2156 - accuracy: 0.9260 - val_loss: 0.2333 - val_accuracy: 0.9205\n"
     ]
    }
   ],
   "source": [
    "history = model_A.fit(X_train_A, y_train_A, epochs=20,\n",
    "                    validation_data=(X_valid_A, y_valid_A))"
   ]
  },
  {
   "cell_type": "code",
   "execution_count": 32,
   "metadata": {},
   "outputs": [],
   "source": [
    "model_B = keras.models.Sequential()\n",
    "model_B.add(keras.layers.Flatten(input_shape=[28, 28]))\n",
    "for n_hidden in (300, 100, 50, 50, 50):\n",
    "    model_B.add(keras.layers.Dense(n_hidden, activation=\"selu\"))\n",
    "model_B.add(keras.layers.Dense(1, activation=\"sigmoid\"))"
   ]
  },
  {
   "cell_type": "code",
   "execution_count": 33,
   "metadata": {},
   "outputs": [],
   "source": [
    "model_B.compile(loss=\"binary_crossentropy\",\n",
    "                optimizer=keras.optimizers.SGD(learning_rate=1e-3),\n",
    "                metrics=[\"accuracy\"])"
   ]
  },
  {
   "cell_type": "code",
   "execution_count": 34,
   "metadata": {},
   "outputs": [
    {
     "name": "stdout",
     "output_type": "stream",
     "text": [
      "Epoch 1/20\n",
      "7/7 [==============================] - 0s 39ms/step - loss: 0.9574 - accuracy: 0.4650 - val_loss: 0.6311 - val_accuracy: 0.6004\n",
      "Epoch 2/20\n",
      "7/7 [==============================] - 0s 23ms/step - loss: 0.5692 - accuracy: 0.7500 - val_loss: 0.4784 - val_accuracy: 0.8529\n",
      "Epoch 3/20\n",
      "7/7 [==============================] - 0s 20ms/step - loss: 0.4503 - accuracy: 0.8650 - val_loss: 0.4102 - val_accuracy: 0.8945\n",
      "Epoch 4/20\n",
      "7/7 [==============================] - 0s 19ms/step - loss: 0.3879 - accuracy: 0.8950 - val_loss: 0.3647 - val_accuracy: 0.9178\n",
      "Epoch 5/20\n",
      "7/7 [==============================] - 0s 18ms/step - loss: 0.3434 - accuracy: 0.9250 - val_loss: 0.3300 - val_accuracy: 0.9310\n",
      "Epoch 6/20\n",
      "7/7 [==============================] - 0s 19ms/step - loss: 0.3081 - accuracy: 0.9300 - val_loss: 0.3019 - val_accuracy: 0.9402\n",
      "Epoch 7/20\n",
      "7/7 [==============================] - 0s 20ms/step - loss: 0.2800 - accuracy: 0.9350 - val_loss: 0.2804 - val_accuracy: 0.9422\n",
      "Epoch 8/20\n",
      "7/7 [==============================] - 0s 22ms/step - loss: 0.2564 - accuracy: 0.9450 - val_loss: 0.2606 - val_accuracy: 0.9473\n",
      "Epoch 9/20\n",
      "7/7 [==============================] - 0s 19ms/step - loss: 0.2363 - accuracy: 0.9550 - val_loss: 0.2428 - val_accuracy: 0.9523\n",
      "Epoch 10/20\n",
      "7/7 [==============================] - 0s 18ms/step - loss: 0.2187 - accuracy: 0.9600 - val_loss: 0.2281 - val_accuracy: 0.9544\n",
      "Epoch 11/20\n",
      "7/7 [==============================] - 0s 18ms/step - loss: 0.2036 - accuracy: 0.9700 - val_loss: 0.2150 - val_accuracy: 0.9584\n",
      "Epoch 12/20\n",
      "7/7 [==============================] - 0s 18ms/step - loss: 0.1897 - accuracy: 0.9700 - val_loss: 0.2036 - val_accuracy: 0.9584\n",
      "Epoch 13/20\n",
      "7/7 [==============================] - 0s 18ms/step - loss: 0.1773 - accuracy: 0.9750 - val_loss: 0.1931 - val_accuracy: 0.9615\n",
      "Epoch 14/20\n",
      "7/7 [==============================] - 0s 21ms/step - loss: 0.1668 - accuracy: 0.9800 - val_loss: 0.1837 - val_accuracy: 0.9635\n",
      "Epoch 15/20\n",
      "7/7 [==============================] - 0s 26ms/step - loss: 0.1570 - accuracy: 0.9900 - val_loss: 0.1746 - val_accuracy: 0.9686\n",
      "Epoch 16/20\n",
      "7/7 [==============================] - 0s 25ms/step - loss: 0.1481 - accuracy: 0.9900 - val_loss: 0.1674 - val_accuracy: 0.9686\n",
      "Epoch 17/20\n",
      "7/7 [==============================] - 0s 25ms/step - loss: 0.1406 - accuracy: 0.9900 - val_loss: 0.1604 - val_accuracy: 0.9706\n",
      "Epoch 18/20\n",
      "7/7 [==============================] - 0s 19ms/step - loss: 0.1333 - accuracy: 0.9900 - val_loss: 0.1539 - val_accuracy: 0.9706\n",
      "Epoch 19/20\n",
      "7/7 [==============================] - 0s 18ms/step - loss: 0.1268 - accuracy: 0.9900 - val_loss: 0.1482 - val_accuracy: 0.9716\n",
      "Epoch 20/20\n",
      "7/7 [==============================] - 0s 17ms/step - loss: 0.1208 - accuracy: 0.9900 - val_loss: 0.1431 - val_accuracy: 0.9716\n"
     ]
    }
   ],
   "source": [
    "history = model_B.fit(X_train_B, y_train_B, epochs=20,\n",
    "                      validation_data=(X_valid_B, y_valid_B))"
   ]
  },
  {
   "cell_type": "code",
   "execution_count": 35,
   "metadata": {},
   "outputs": [],
   "source": [
    "model_B_on_A = keras.models.Sequential(model_A.layers[:-1])\n",
    "model_B_on_A.add(keras.layers.Dense(1, activation=\"sigmoid\"))"
   ]
  },
  {
   "cell_type": "markdown",
   "metadata": {},
   "source": [
    "Note that `model_B_on_A` and `model_A` actually share layers now, so when we train one, it will update both models. If we want to avoid that, we need to build `model_B_on_A` on top of a clone of `model_A`:"
   ]
  },
  {
   "cell_type": "code",
   "execution_count": 36,
   "metadata": {},
   "outputs": [],
   "source": [
    "model_A_clone = keras.models.clone_model(model_A)\n",
    "model_A_clone.set_weights(model_A.get_weights())"
   ]
  },
  {
   "cell_type": "code",
   "execution_count": 37,
   "metadata": {},
   "outputs": [],
   "source": [
    "for layer in model_B_on_A.layers[:-1]:\n",
    "    layer.trainable = False\n",
    "\n",
    "model_B_on_A.compile(loss=\"binary_crossentropy\",\n",
    "                     optimizer=keras.optimizers.SGD(lr=1e-3),\n",
    "                     metrics=[\"accuracy\"])"
   ]
  },
  {
   "cell_type": "code",
   "execution_count": 38,
   "metadata": {},
   "outputs": [
    {
     "name": "stdout",
     "output_type": "stream",
     "text": [
      "Epoch 1/4\n",
      "7/7 [==============================] - 0s 30ms/step - loss: 0.2005 - accuracy: 0.9600 - val_loss: 0.2153 - val_accuracy: 0.9665\n",
      "Epoch 2/4\n",
      "7/7 [==============================] - 0s 16ms/step - loss: 0.1946 - accuracy: 0.9600 - val_loss: 0.2098 - val_accuracy: 0.9686\n",
      "Epoch 3/4\n",
      "7/7 [==============================] - 0s 18ms/step - loss: 0.1892 - accuracy: 0.9600 - val_loss: 0.2046 - val_accuracy: 0.9726\n",
      "Epoch 4/4\n",
      "7/7 [==============================] - 0s 18ms/step - loss: 0.1840 - accuracy: 0.9600 - val_loss: 0.1997 - val_accuracy: 0.9736\n",
      "Epoch 1/20\n",
      "7/7 [==============================] - 1s 60ms/step - loss: 0.1709 - accuracy: 0.9600 - val_loss: 0.1747 - val_accuracy: 0.9757\n",
      "Epoch 2/20\n",
      "7/7 [==============================] - 0s 22ms/step - loss: 0.1474 - accuracy: 0.9700 - val_loss: 0.1562 - val_accuracy: 0.9817\n",
      "Epoch 3/20\n",
      "7/7 [==============================] - 0s 21ms/step - loss: 0.1299 - accuracy: 0.9800 - val_loss: 0.1413 - val_accuracy: 0.9838\n",
      "Epoch 4/20\n",
      "7/7 [==============================] - 0s 21ms/step - loss: 0.1161 - accuracy: 0.9800 - val_loss: 0.1297 - val_accuracy: 0.9838\n",
      "Epoch 5/20\n",
      "7/7 [==============================] - 0s 21ms/step - loss: 0.1051 - accuracy: 0.9850 - val_loss: 0.1201 - val_accuracy: 0.9848\n",
      "Epoch 6/20\n",
      "7/7 [==============================] - 0s 20ms/step - loss: 0.0958 - accuracy: 0.9900 - val_loss: 0.1119 - val_accuracy: 0.9858\n",
      "Epoch 7/20\n",
      "7/7 [==============================] - 0s 19ms/step - loss: 0.0880 - accuracy: 0.9900 - val_loss: 0.1051 - val_accuracy: 0.9888\n",
      "Epoch 8/20\n",
      "7/7 [==============================] - 0s 19ms/step - loss: 0.0815 - accuracy: 0.9900 - val_loss: 0.0992 - val_accuracy: 0.9899\n",
      "Epoch 9/20\n",
      "7/7 [==============================] - 0s 19ms/step - loss: 0.0758 - accuracy: 0.9900 - val_loss: 0.0936 - val_accuracy: 0.9899\n",
      "Epoch 10/20\n",
      "7/7 [==============================] - 0s 20ms/step - loss: 0.0706 - accuracy: 0.9950 - val_loss: 0.0891 - val_accuracy: 0.9899\n",
      "Epoch 11/20\n",
      "7/7 [==============================] - 0s 20ms/step - loss: 0.0663 - accuracy: 0.9950 - val_loss: 0.0852 - val_accuracy: 0.9899\n",
      "Epoch 12/20\n",
      "7/7 [==============================] - 0s 20ms/step - loss: 0.0624 - accuracy: 0.9950 - val_loss: 0.0812 - val_accuracy: 0.9899\n",
      "Epoch 13/20\n",
      "7/7 [==============================] - 0s 20ms/step - loss: 0.0585 - accuracy: 0.9950 - val_loss: 0.0780 - val_accuracy: 0.9899\n",
      "Epoch 14/20\n",
      "7/7 [==============================] - 0s 26ms/step - loss: 0.0554 - accuracy: 0.9950 - val_loss: 0.0753 - val_accuracy: 0.9899\n",
      "Epoch 15/20\n",
      "7/7 [==============================] - 0s 23ms/step - loss: 0.0528 - accuracy: 0.9950 - val_loss: 0.0727 - val_accuracy: 0.9899\n",
      "Epoch 16/20\n",
      "7/7 [==============================] - 0s 24ms/step - loss: 0.0503 - accuracy: 0.9950 - val_loss: 0.0702 - val_accuracy: 0.9888\n",
      "Epoch 17/20\n",
      "7/7 [==============================] - 0s 23ms/step - loss: 0.0478 - accuracy: 0.9950 - val_loss: 0.0681 - val_accuracy: 0.9888\n",
      "Epoch 18/20\n",
      "7/7 [==============================] - 0s 20ms/step - loss: 0.0457 - accuracy: 1.0000 - val_loss: 0.0660 - val_accuracy: 0.9888\n",
      "Epoch 19/20\n",
      "7/7 [==============================] - 0s 19ms/step - loss: 0.0437 - accuracy: 1.0000 - val_loss: 0.0639 - val_accuracy: 0.9899\n",
      "Epoch 20/20\n",
      "7/7 [==============================] - 0s 20ms/step - loss: 0.0417 - accuracy: 1.0000 - val_loss: 0.0623 - val_accuracy: 0.9899\n"
     ]
    }
   ],
   "source": [
    "history = model_B_on_A.fit(X_train_B, y_train_B, epochs=4,\n",
    "                           validation_data=(X_valid_B, y_valid_B))\n",
    "\n",
    "for layer in model_B_on_A.layers[:-1]:\n",
    "    layer.trainable = True\n",
    "\n",
    "model_B_on_A.compile(loss=\"binary_crossentropy\",\n",
    "                     optimizer=keras.optimizers.SGD(lr=1e-3),\n",
    "                     metrics=[\"accuracy\"])\n",
    "history = model_B_on_A.fit(X_train_B, y_train_B, epochs=20,\n",
    "                           validation_data=(X_valid_B, y_valid_B))"
   ]
  },
  {
   "cell_type": "markdown",
   "metadata": {},
   "source": [
    "Task 4:\n",
    "a) Evaluate the loss and accuracy of the two models `model_B` and `model_B_on_A` on the sandals/shirts dataset. "
   ]
  },
  {
   "cell_type": "markdown",
   "metadata": {
    "id": "nsnymzLuLvm2"
   },
   "source": [
    "↓↓↓↓↓↓↓↓↓↓↓↓↓↓↓↓↓↓↓↓↓↓↓↓↓↓↓↓↓↓↓ your code goes below"
   ]
  },
  {
   "cell_type": "code",
   "execution_count": 39,
   "metadata": {},
   "outputs": [],
   "source": [
    "#model_B_on_A..."
   ]
  },
  {
   "cell_type": "code",
   "execution_count": 40,
   "metadata": {},
   "outputs": [
    {
     "name": "stdout",
     "output_type": "stream",
     "text": [
      "63/63 [==============================] - 0s 3ms/step - loss: 0.1408 - accuracy: 0.9705\n"
     ]
    },
    {
     "data": {
      "text/plain": [
       "[0.1408434957265854, 0.9704999923706055]"
      ]
     },
     "execution_count": 40,
     "metadata": {},
     "output_type": "execute_result"
    }
   ],
   "source": [
    "model_B.evaluate(X_test_B, y_test_B)"
   ]
  },
  {
   "cell_type": "code",
   "execution_count": 41,
   "metadata": {},
   "outputs": [
    {
     "name": "stdout",
     "output_type": "stream",
     "text": [
      "63/63 [==============================] - 0s 3ms/step - loss: 0.0567 - accuracy: 0.9960\n"
     ]
    },
    {
     "data": {
      "text/plain": [
       "[0.056697819381952286, 0.9959999918937683]"
      ]
     },
     "execution_count": 41,
     "metadata": {},
     "output_type": "execute_result"
    }
   ],
   "source": [
    "model_B_on_A.evaluate(X_test_B, y_test_B)"
   ]
  },
  {
   "cell_type": "markdown",
   "metadata": {},
   "source": [
    "↑↑↑↑↑↑↑↑↑↑↑↑↑↑↑↑↑↑↑↑↑↑↑↑↑↑↑↑↑↑↑ your code goes above"
   ]
  },
  {
   "cell_type": "markdown",
   "metadata": {},
   "source": [
    "b) In your own words, explain above \"transfer learning\". Did it help?"
   ]
  },
  {
   "cell_type": "markdown",
   "metadata": {
    "id": "nsnymzLuLvm2"
   },
   "source": [
    "↓↓↓↓↓↓↓↓↓↓↓↓↓↓↓↓↓↓↓↓↓↓↓↓↓↓↓↓↓↓↓ your code goes below"
   ]
  },
  {
   "cell_type": "markdown",
   "metadata": {},
   "source": [
    "Task "
   ]
  },
  {
   "cell_type": "markdown",
   "metadata": {},
   "source": [
    "↑↑↑↑↑↑↑↑↑↑↑↑↑↑↑↑↑↑↑↑↑↑↑↑↑↑↑↑↑↑↑ your code goes above"
   ]
  },
  {
   "cell_type": "markdown",
   "metadata": {},
   "source": [
    "## Task 5: Learning Rate Scheduling\n",
    "Let's add a an exponential decay of the learning rate:"
   ]
  },
  {
   "cell_type": "markdown",
   "metadata": {},
   "source": [
    "We will use the following learning rate schedule (exponential):   \n",
    "$ lr = lr_0 \\cdot 0.1 ^ {epoch / 20}$"
   ]
  },
  {
   "cell_type": "code",
   "execution_count": 42,
   "metadata": {},
   "outputs": [],
   "source": [
    "def exponential_decay(lr0, s):\n",
    "    def exponential_decay_fn(epoch):\n",
    "        return lr0 * 0.1**(epoch / s)\n",
    "    return exponential_decay_fn\n",
    "\n",
    "exponential_decay_fn = exponential_decay(lr0=0.01, s=20)\n",
    "\n",
    "lr_scheduler = keras.callbacks.LearningRateScheduler(exponential_decay_fn)"
   ]
  },
  {
   "cell_type": "markdown",
   "metadata": {},
   "source": [
    "**Task 5:** \n",
    "- Build a NN with: two hidden layers with 300 and 100 nodes, add BatchNormalization layers before the dense layers,\n",
    "- compile the model with `\"sparse_categorical_crossentropy\"` as `loss`, `\"nadam\"` for the `optimizer` and `[\"accuracy\"]` as `metrics`,\n",
    "- fit the model to `X_train` and `y_train` for 25 epochs. Use `(X_valid, y_valid)` for the `validation_data` and add the exponential decay through `callbacks=[lr_scheduler]`."
   ]
  },
  {
   "cell_type": "markdown",
   "metadata": {
    "id": "nsnymzLuLvm2"
   },
   "source": [
    "↓↓↓↓↓↓↓↓↓↓↓↓↓↓↓↓↓↓↓↓↓↓↓↓↓↓↓↓↓↓↓ your code goes below"
   ]
  },
  {
   "cell_type": "code",
   "execution_count": 43,
   "metadata": {},
   "outputs": [],
   "source": [
    "model = keras.models.Sequential([\n",
    "    keras.layers.Flatten(input_shape=[28, 28]),\n",
    "    keras.layers.BatchNormalization(),\n",
    "    keras.layers.Dense(300, activation=\"selu\", kernel_initializer=\"lecun_normal\"),\n",
    "    keras.layers.BatchNormalization(),\n",
    "    keras.layers.Dense(100, activation=\"selu\", kernel_initializer=\"lecun_normal\"),\n",
    "    keras.layers.BatchNormalization(),\n",
    "    keras.layers.Dense(10, activation=\"softmax\")\n",
    "])\n",
    "model.compile(loss=\"sparse_categorical_crossentropy\", optimizer=\"nadam\", metrics=[\"accuracy\"])"
   ]
  },
  {
   "cell_type": "code",
   "execution_count": 44,
   "metadata": {},
   "outputs": [
    {
     "name": "stdout",
     "output_type": "stream",
     "text": [
      "Epoch 1/25\n",
      "1719/1719 [==============================] - 17s 10ms/step - loss: 0.4975 - accuracy: 0.8183 - val_loss: 0.3488 - val_accuracy: 0.8750 - lr: 0.0100\n",
      "Epoch 2/25\n",
      "1719/1719 [==============================] - 17s 10ms/step - loss: 0.3878 - accuracy: 0.8570 - val_loss: 0.3746 - val_accuracy: 0.8690 - lr: 0.0089\n",
      "Epoch 3/25\n",
      "1719/1719 [==============================] - 18s 10ms/step - loss: 0.3551 - accuracy: 0.8684 - val_loss: 0.3376 - val_accuracy: 0.8764 - lr: 0.0079\n",
      "Epoch 4/25\n",
      "1719/1719 [==============================] - 16s 10ms/step - loss: 0.3235 - accuracy: 0.8812 - val_loss: 0.3334 - val_accuracy: 0.8798 - lr: 0.0071\n",
      "Epoch 5/25\n",
      "1719/1719 [==============================] - 16s 10ms/step - loss: 0.3003 - accuracy: 0.8877 - val_loss: 0.3011 - val_accuracy: 0.8882 - lr: 0.0063\n",
      "Epoch 6/25\n",
      "1719/1719 [==============================] - 16s 9ms/step - loss: 0.2838 - accuracy: 0.8945 - val_loss: 0.2961 - val_accuracy: 0.8928 - lr: 0.0056\n",
      "Epoch 7/25\n",
      "1719/1719 [==============================] - 16s 9ms/step - loss: 0.2666 - accuracy: 0.9004 - val_loss: 0.2907 - val_accuracy: 0.8940 - lr: 0.0050\n",
      "Epoch 8/25\n",
      "1719/1719 [==============================] - 15s 9ms/step - loss: 0.2484 - accuracy: 0.9065 - val_loss: 0.3100 - val_accuracy: 0.8908 - lr: 0.0045\n",
      "Epoch 9/25\n",
      "1719/1719 [==============================] - 16s 9ms/step - loss: 0.2329 - accuracy: 0.9118 - val_loss: 0.2950 - val_accuracy: 0.8976 - lr: 0.0040\n",
      "Epoch 10/25\n",
      "1719/1719 [==============================] - 17s 10ms/step - loss: 0.2199 - accuracy: 0.9167 - val_loss: 0.2979 - val_accuracy: 0.8974 - lr: 0.0035\n",
      "Epoch 11/25\n",
      "1719/1719 [==============================] - 14s 8ms/step - loss: 0.2072 - accuracy: 0.9212 - val_loss: 0.3090 - val_accuracy: 0.8952 - lr: 0.0032\n",
      "Epoch 12/25\n",
      "1719/1719 [==============================] - 15s 9ms/step - loss: 0.1955 - accuracy: 0.9261 - val_loss: 0.3128 - val_accuracy: 0.8974 - lr: 0.0028\n",
      "Epoch 13/25\n",
      "1719/1719 [==============================] - 15s 9ms/step - loss: 0.1843 - accuracy: 0.9290 - val_loss: 0.3207 - val_accuracy: 0.8962 - lr: 0.0025\n",
      "Epoch 14/25\n",
      "1719/1719 [==============================] - 15s 9ms/step - loss: 0.1753 - accuracy: 0.9336 - val_loss: 0.3228 - val_accuracy: 0.8958 - lr: 0.0022\n",
      "Epoch 15/25\n",
      "1719/1719 [==============================] - 15s 9ms/step - loss: 0.1658 - accuracy: 0.9369 - val_loss: 0.3272 - val_accuracy: 0.8966 - lr: 0.0020\n",
      "Epoch 16/25\n",
      "1719/1719 [==============================] - 15s 9ms/step - loss: 0.1589 - accuracy: 0.9392 - val_loss: 0.3426 - val_accuracy: 0.8990 - lr: 0.0018\n",
      "Epoch 17/25\n",
      "1719/1719 [==============================] - 16s 9ms/step - loss: 0.1518 - accuracy: 0.9418 - val_loss: 0.3374 - val_accuracy: 0.8988 - lr: 0.0016\n",
      "Epoch 18/25\n",
      "1719/1719 [==============================] - 15s 9ms/step - loss: 0.1414 - accuracy: 0.9451 - val_loss: 0.3480 - val_accuracy: 0.9018 - lr: 0.0014\n",
      "Epoch 19/25\n",
      "1719/1719 [==============================] - 15s 9ms/step - loss: 0.1367 - accuracy: 0.9479 - val_loss: 0.3615 - val_accuracy: 0.8984 - lr: 0.0013\n",
      "Epoch 20/25\n",
      "1719/1719 [==============================] - 16s 9ms/step - loss: 0.1312 - accuracy: 0.9496 - val_loss: 0.3512 - val_accuracy: 0.9000 - lr: 0.0011\n",
      "Epoch 21/25\n",
      "1719/1719 [==============================] - 19s 11ms/step - loss: 0.1256 - accuracy: 0.9517 - val_loss: 0.3605 - val_accuracy: 0.8968 - lr: 0.0010\n",
      "Epoch 22/25\n",
      "1719/1719 [==============================] - 15s 9ms/step - loss: 0.1207 - accuracy: 0.9541 - val_loss: 0.3682 - val_accuracy: 0.8974 - lr: 8.9125e-04\n",
      "Epoch 23/25\n",
      "1719/1719 [==============================] - 17s 10ms/step - loss: 0.1165 - accuracy: 0.9557 - val_loss: 0.3781 - val_accuracy: 0.8992 - lr: 7.9433e-04\n",
      "Epoch 24/25\n",
      "1719/1719 [==============================] - 20s 12ms/step - loss: 0.1131 - accuracy: 0.9566 - val_loss: 0.3801 - val_accuracy: 0.8958 - lr: 7.0795e-04\n",
      "Epoch 25/25\n",
      "1719/1719 [==============================] - 19s 11ms/step - loss: 0.1108 - accuracy: 0.9581 - val_loss: 0.3859 - val_accuracy: 0.8990 - lr: 6.3096e-04\n"
     ]
    }
   ],
   "source": [
    "n_epochs = 25\n",
    "history = model.fit(X_train, y_train, epochs=n_epochs,\n",
    "                    validation_data=(X_valid, y_valid),\n",
    "                    callbacks=[lr_scheduler])\n"
   ]
  },
  {
   "cell_type": "markdown",
   "metadata": {},
   "source": [
    "↑↑↑↑↑↑↑↑↑↑↑↑↑↑↑↑↑↑↑↑↑↑↑↑↑↑↑↑↑↑↑ your code goes above"
   ]
  },
  {
   "cell_type": "code",
   "execution_count": 45,
   "metadata": {},
   "outputs": [
    {
     "name": "stdout",
     "output_type": "stream",
     "text": [
      "1719/1719 [==============================] - 7s 4ms/step - loss: 0.0777 - accuracy: 0.9755\n",
      "train loss: [0.0776640996336937, 0.975490927696228]\n",
      "313/313 [==============================] - 1s 4ms/step - loss: 0.4019 - accuracy: 0.8981\n",
      "test loss: [0.40190133452415466, 0.8981000185012817]\n"
     ]
    }
   ],
   "source": [
    "# note that the model is overfitting a lot. Might want to use dropout\n",
    "# also a CNN will perform much better as we will see next Hands-On\n",
    "print(\"train loss:\", model.evaluate(X_train, y_train))\n",
    "print(\"test loss:\", model.evaluate(X_test, y_test))"
   ]
  },
  {
   "cell_type": "code",
   "execution_count": 46,
   "metadata": {},
   "outputs": [
    {
     "data": {
      "text/plain": [
       "dict_keys(['loss', 'accuracy', 'val_loss', 'val_accuracy', 'lr'])"
      ]
     },
     "execution_count": 46,
     "metadata": {},
     "output_type": "execute_result"
    }
   ],
   "source": [
    "# the learning rate is saved in the history under the key 'lr' \n",
    "history.history.keys()"
   ]
  },
  {
   "cell_type": "code",
   "execution_count": 47,
   "metadata": {},
   "outputs": [
    {
     "data": {
      "image/png": "[encoded data removed]",
      "text/plain": [
       "<Figure size 432x288 with 1 Axes>"
      ]
     },
     "metadata": {
      "needs_background": "light"
     },
     "output_type": "display_data"
    }
   ],
   "source": [
    "plt.plot(history.epoch, history.history[\"lr\"], \"o-\")\n",
    "plt.axis([0, n_epochs - 1, 0, 0.011])\n",
    "plt.xlabel(\"Epoch\")\n",
    "plt.ylabel(\"Learning Rate\")\n",
    "plt.title(\"Exponential Scheduling\", fontsize=14)\n",
    "plt.grid(True)\n",
    "plt.show()"
   ]
  },
  {
   "cell_type": "markdown",
   "metadata": {},
   "source": [
    "Note: If you want to use learning rate decay, it is probably better to use a Keras built in function like [ExponentialDecay](https://keras.io/api/optimizers/learning_rate_schedules/exponential_decay/) and not program it yourself."
   ]
  },
  {
   "cell_type": "markdown",
   "metadata": {},
   "source": [
    "## Task 6: Performance Scheduling"
   ]
  },
  {
   "cell_type": "markdown",
   "metadata": {},
   "source": [
    "For performance scheduling, use the `ReduceLROnPlateau` callback. For example, if you pass the following callback to the `fit()` method, it will multiply the learning rate by 0.5 whenever the best validation loss does not improve for two consecutive epochs:\n",
    "\n",
    "`lr_scheduler = keras.callbacks.ReduceLROnPlateau(factor=0.5, patience=2)`"
   ]
  },
  {
   "cell_type": "markdown",
   "metadata": {},
   "source": [
    "**Task 6:**   \n",
    "a) Re-use (copy-pasta) the NN from Task 5: two hidden layers with 300 and 100 nodes and BatchNormalization layers before the dense layers. But, now use Adam optimizer with a initial lr=0.01,   \n",
    "b) Compare the results with the previous one (Task 5),   \n",
    "c) Comment on the learning rate as a function of epochs using the plot given below."
   ]
  },
  {
   "cell_type": "markdown",
   "metadata": {
    "id": "nsnymzLuLvm2"
   },
   "source": [
    "↓↓↓↓↓↓↓↓↓↓↓↓↓↓↓↓↓↓↓↓↓↓↓↓↓↓↓↓↓↓↓ your code goes below"
   ]
  },
  {
   "cell_type": "code",
   "execution_count": 48,
   "metadata": {},
   "outputs": [],
   "source": [
    "lr_scheduler = keras.callbacks.ReduceLROnPlateau(factor=0.5, patience=2)"
   ]
  },
  {
   "cell_type": "code",
   "execution_count": 49,
   "metadata": {},
   "outputs": [
    {
     "name": "stdout",
     "output_type": "stream",
     "text": [
      "Epoch 1/25\n",
      "1719/1719 [==============================] - 8s 4ms/step - loss: 0.5251 - accuracy: 0.8083 - val_loss: 0.3883 - val_accuracy: 0.8588 - lr: 0.0200\n",
      "Epoch 2/25\n",
      "1719/1719 [==============================] - 6s 4ms/step - loss: 0.3875 - accuracy: 0.8569 - val_loss: 0.4031 - val_accuracy: 0.8578 - lr: 0.0200\n",
      "Epoch 3/25\n",
      "1719/1719 [==============================] - 7s 4ms/step - loss: 0.3501 - accuracy: 0.8680 - val_loss: 0.3420 - val_accuracy: 0.8744 - lr: 0.0200\n",
      "Epoch 4/25\n",
      "1719/1719 [==============================] - 6s 4ms/step - loss: 0.3259 - accuracy: 0.8779 - val_loss: 0.3196 - val_accuracy: 0.8830 - lr: 0.0200\n",
      "Epoch 5/25\n",
      "1719/1719 [==============================] - 6s 4ms/step - loss: 0.3074 - accuracy: 0.8844 - val_loss: 0.3137 - val_accuracy: 0.8818 - lr: 0.0200\n",
      "Epoch 6/25\n",
      "1719/1719 [==============================] - 7s 4ms/step - loss: 0.2934 - accuracy: 0.8911 - val_loss: 0.3240 - val_accuracy: 0.8838 - lr: 0.0200\n",
      "Epoch 7/25\n",
      "1719/1719 [==============================] - 8s 5ms/step - loss: 0.2813 - accuracy: 0.8957 - val_loss: 0.3283 - val_accuracy: 0.8796 - lr: 0.0200\n",
      "Epoch 8/25\n",
      "1719/1719 [==============================] - 8s 4ms/step - loss: 0.2378 - accuracy: 0.9103 - val_loss: 0.2873 - val_accuracy: 0.8970 - lr: 0.0100\n",
      "Epoch 9/25\n",
      "1719/1719 [==============================] - 7s 4ms/step - loss: 0.2276 - accuracy: 0.9126 - val_loss: 0.2882 - val_accuracy: 0.8972 - lr: 0.0100\n",
      "Epoch 10/25\n",
      "1719/1719 [==============================] - 6s 3ms/step - loss: 0.2194 - accuracy: 0.9167 - val_loss: 0.2946 - val_accuracy: 0.8950 - lr: 0.0100\n",
      "Epoch 11/25\n",
      "1719/1719 [==============================] - 7s 4ms/step - loss: 0.1960 - accuracy: 0.9249 - val_loss: 0.2914 - val_accuracy: 0.8956 - lr: 0.0050\n",
      "Epoch 12/25\n",
      "1719/1719 [==============================] - 8s 5ms/step - loss: 0.1895 - accuracy: 0.9282 - val_loss: 0.2827 - val_accuracy: 0.8962 - lr: 0.0050\n",
      "Epoch 13/25\n",
      "1719/1719 [==============================] - 8s 5ms/step - loss: 0.1846 - accuracy: 0.9307 - val_loss: 0.2837 - val_accuracy: 0.9004 - lr: 0.0050\n",
      "Epoch 14/25\n",
      "1719/1719 [==============================] - 8s 5ms/step - loss: 0.1806 - accuracy: 0.9308 - val_loss: 0.2928 - val_accuracy: 0.8982 - lr: 0.0050\n",
      "Epoch 15/25\n",
      "1719/1719 [==============================] - 9s 5ms/step - loss: 0.1659 - accuracy: 0.9375 - val_loss: 0.2809 - val_accuracy: 0.8994 - lr: 0.0025\n",
      "Epoch 16/25\n",
      "1719/1719 [==============================] - 8s 5ms/step - loss: 0.1627 - accuracy: 0.9391 - val_loss: 0.2865 - val_accuracy: 0.9008 - lr: 0.0025\n",
      "Epoch 17/25\n",
      "1719/1719 [==============================] - 8s 5ms/step - loss: 0.1600 - accuracy: 0.9396 - val_loss: 0.2875 - val_accuracy: 0.9006 - lr: 0.0025\n",
      "Epoch 18/25\n",
      "1719/1719 [==============================] - 8s 5ms/step - loss: 0.1519 - accuracy: 0.9430 - val_loss: 0.2856 - val_accuracy: 0.9038 - lr: 0.0012\n",
      "Epoch 19/25\n",
      "1719/1719 [==============================] - 8s 5ms/step - loss: 0.1497 - accuracy: 0.9443 - val_loss: 0.2875 - val_accuracy: 0.9044 - lr: 0.0012\n",
      "Epoch 20/25\n",
      "1719/1719 [==============================] - 6s 4ms/step - loss: 0.1455 - accuracy: 0.9456 - val_loss: 0.2840 - val_accuracy: 0.9040 - lr: 6.2500e-04\n",
      "Epoch 21/25\n",
      "1719/1719 [==============================] - 6s 4ms/step - loss: 0.1441 - accuracy: 0.9465 - val_loss: 0.2865 - val_accuracy: 0.9042 - lr: 6.2500e-04\n",
      "Epoch 22/25\n",
      "1719/1719 [==============================] - 6s 3ms/step - loss: 0.1420 - accuracy: 0.9477 - val_loss: 0.2853 - val_accuracy: 0.9040 - lr: 3.1250e-04\n",
      "Epoch 23/25\n",
      "1719/1719 [==============================] - 9s 5ms/step - loss: 0.1414 - accuracy: 0.9482 - val_loss: 0.2844 - val_accuracy: 0.9056 - lr: 3.1250e-04\n",
      "Epoch 24/25\n",
      "1719/1719 [==============================] - 8s 5ms/step - loss: 0.1402 - accuracy: 0.9484 - val_loss: 0.2855 - val_accuracy: 0.9040 - lr: 1.5625e-04\n",
      "Epoch 25/25\n",
      "1719/1719 [==============================] - 8s 4ms/step - loss: 0.1399 - accuracy: 0.9488 - val_loss: 0.2852 - val_accuracy: 0.9038 - lr: 1.5625e-04\n"
     ]
    }
   ],
   "source": [
    "model = keras.models.Sequential([\n",
    "    keras.layers.Flatten(input_shape=[28, 28]),\n",
    "    keras.layers.Dense(300, activation=\"relu\", kernel_initializer=\"lecun_normal\"),\n",
    "    keras.layers.Dense(100, activation=\"relu\", kernel_initializer=\"lecun_normal\"),\n",
    "    keras.layers.Dense(10, activation=\"softmax\")\n",
    "])\n",
    "optimizer = keras.optimizers.SGD(learning_rate=0.02, momentum=0.9)\n",
    "model.compile(loss=\"sparse_categorical_crossentropy\", optimizer=optimizer, metrics=[\"accuracy\"])\n",
    "n_epochs = 25\n",
    "history = model.fit(X_train, y_train, epochs=n_epochs,\n",
    "                    validation_data=(X_valid, y_valid),\n",
    "                    callbacks=[lr_scheduler])"
   ]
  },
  {
   "cell_type": "code",
   "execution_count": 50,
   "metadata": {},
   "outputs": [
    {
     "name": "stdout",
     "output_type": "stream",
     "text": [
      "313/313 [==============================] - 1s 4ms/step - loss: 0.3123 - accuracy: 0.8974\n"
     ]
    },
    {
     "data": {
      "text/plain": [
       "[0.31227925419807434, 0.8974000215530396]"
      ]
     },
     "execution_count": 50,
     "metadata": {},
     "output_type": "execute_result"
    }
   ],
   "source": [
    "model.evaluate(X_test, y_test)"
   ]
  },
  {
   "cell_type": "code",
   "execution_count": 51,
   "metadata": {},
   "outputs": [
    {
     "data": {
      "image/png": "[encoded data removed]",
      "text/plain": [
       "<Figure size 432x288 with 2 Axes>"
      ]
     },
     "metadata": {
      "needs_background": "light"
     },
     "output_type": "display_data"
    }
   ],
   "source": [
    "plt.plot(history.epoch, history.history[\"lr\"], \"bo-\")\n",
    "plt.xlabel(\"Epoch\")\n",
    "plt.ylabel(\"Learning Rate\", color='b')\n",
    "plt.tick_params('y', colors='b')\n",
    "plt.gca().set_xlim(0, n_epochs - 1)\n",
    "plt.grid(True)\n",
    "\n",
    "ax2 = plt.gca().twinx()\n",
    "ax2.plot(history.epoch, history.history[\"val_loss\"], \"r^-\")\n",
    "ax2.set_ylabel('Validation Loss', color='r')\n",
    "ax2.tick_params('y', colors='r')\n",
    "\n",
    "plt.title(\"Reduce LR on Plateau\", fontsize=14)\n",
    "plt.show()"
   ]
  },
  {
   "cell_type": "markdown",
   "metadata": {},
   "source": [
    "Task 6 c) answer:"
   ]
  },
  {
   "cell_type": "markdown",
   "metadata": {},
   "source": [
    "↑↑↑↑↑↑↑↑↑↑↑↑↑↑↑↑↑↑↑↑↑↑↑↑↑↑↑↑↑↑↑ your code goes above"
   ]
  },
  {
   "cell_type": "markdown",
   "metadata": {},
   "source": [
    "## Task 7 Avoiding Overfitting Through Regularization\n",
    "Our models above all overfit (why?). Let's now tackle this problem using dropout."
   ]
  },
  {
   "cell_type": "markdown",
   "metadata": {},
   "source": [
    "**Task 7:**   \n",
    "a) Copy the code for the model of Task 6, add a dropout (20% rate) before each hidden layer (https://keras.io/api/layers/regularization_layers/dropout/),    \n",
    "b) Compare the results."
   ]
  },
  {
   "cell_type": "markdown",
   "metadata": {},
   "source": [
    "↑↑↑↑↑↑↑↑↑↑↑↑↑↑↑↑↑↑↑↑↑↑↑↑↑↑↑↑↑↑↑ your code goes above"
   ]
  },
  {
   "cell_type": "code",
   "execution_count": 52,
   "metadata": {},
   "outputs": [
    {
     "name": "stdout",
     "output_type": "stream",
     "text": [
      "Epoch 1/25\n",
      "1719/1719 [==============================] - 13s 7ms/step - loss: 0.5793 - accuracy: 0.7895 - val_loss: 0.3939 - val_accuracy: 0.8604 - lr: 0.0010\n",
      "Epoch 2/25\n",
      "1719/1719 [==============================] - 11s 6ms/step - loss: 0.4433 - accuracy: 0.8367 - val_loss: 0.3627 - val_accuracy: 0.8658 - lr: 0.0010\n",
      "Epoch 3/25\n",
      "1719/1719 [==============================] - 11s 6ms/step - loss: 0.4121 - accuracy: 0.8475 - val_loss: 0.3604 - val_accuracy: 0.8640 - lr: 0.0010\n",
      "Epoch 4/25\n",
      "1719/1719 [==============================] - 11s 6ms/step - loss: 0.3904 - accuracy: 0.8559 - val_loss: 0.3286 - val_accuracy: 0.8800 - lr: 0.0010\n",
      "Epoch 5/25\n",
      "1719/1719 [==============================] - 11s 6ms/step - loss: 0.3764 - accuracy: 0.8604 - val_loss: 0.3261 - val_accuracy: 0.8810 - lr: 0.0010\n",
      "Epoch 6/25\n",
      "1719/1719 [==============================] - 10s 6ms/step - loss: 0.3657 - accuracy: 0.8644 - val_loss: 0.3266 - val_accuracy: 0.8776 - lr: 0.0010\n",
      "Epoch 7/25\n",
      "1719/1719 [==============================] - 9s 5ms/step - loss: 0.3556 - accuracy: 0.8671 - val_loss: 0.3137 - val_accuracy: 0.8834 - lr: 0.0010\n",
      "Epoch 8/25\n",
      "1719/1719 [==============================] - 9s 5ms/step - loss: 0.3488 - accuracy: 0.8690 - val_loss: 0.3166 - val_accuracy: 0.8856 - lr: 0.0010\n",
      "Epoch 9/25\n",
      "1719/1719 [==============================] - 9s 5ms/step - loss: 0.3410 - accuracy: 0.8733 - val_loss: 0.2984 - val_accuracy: 0.8924 - lr: 0.0010\n",
      "Epoch 10/25\n",
      "1719/1719 [==============================] - 10s 6ms/step - loss: 0.3336 - accuracy: 0.8742 - val_loss: 0.3084 - val_accuracy: 0.8870 - lr: 0.0010\n",
      "Epoch 11/25\n",
      "1719/1719 [==============================] - 11s 6ms/step - loss: 0.3328 - accuracy: 0.8751 - val_loss: 0.3052 - val_accuracy: 0.8912 - lr: 0.0010\n",
      "Epoch 12/25\n",
      "1719/1719 [==============================] - 11s 6ms/step - loss: 0.3015 - accuracy: 0.8854 - val_loss: 0.2884 - val_accuracy: 0.8932 - lr: 5.0000e-04\n",
      "Epoch 13/25\n",
      "1719/1719 [==============================] - 11s 7ms/step - loss: 0.2970 - accuracy: 0.8885 - val_loss: 0.2879 - val_accuracy: 0.8958 - lr: 5.0000e-04\n",
      "Epoch 14/25\n",
      "1719/1719 [==============================] - 11s 6ms/step - loss: 0.2936 - accuracy: 0.8885 - val_loss: 0.2893 - val_accuracy: 0.8958 - lr: 5.0000e-04\n",
      "Epoch 15/25\n",
      "1719/1719 [==============================] - 9s 5ms/step - loss: 0.2887 - accuracy: 0.8900 - val_loss: 0.2830 - val_accuracy: 0.8968 - lr: 5.0000e-04\n",
      "Epoch 16/25\n",
      "1719/1719 [==============================] - 10s 6ms/step - loss: 0.2847 - accuracy: 0.8919 - val_loss: 0.2841 - val_accuracy: 0.8978 - lr: 5.0000e-04\n",
      "Epoch 17/25\n",
      "1719/1719 [==============================] - 10s 6ms/step - loss: 0.2807 - accuracy: 0.8921 - val_loss: 0.2866 - val_accuracy: 0.8958 - lr: 5.0000e-04\n",
      "Epoch 18/25\n",
      "1719/1719 [==============================] - 12s 7ms/step - loss: 0.2699 - accuracy: 0.8970 - val_loss: 0.2731 - val_accuracy: 0.9036 - lr: 2.5000e-04\n",
      "Epoch 19/25\n",
      "1719/1719 [==============================] - 11s 7ms/step - loss: 0.2632 - accuracy: 0.8992 - val_loss: 0.2777 - val_accuracy: 0.9002 - lr: 2.5000e-04\n",
      "Epoch 20/25\n",
      "1719/1719 [==============================] - 12s 7ms/step - loss: 0.2614 - accuracy: 0.8996 - val_loss: 0.2740 - val_accuracy: 0.9042 - lr: 2.5000e-04\n",
      "Epoch 21/25\n",
      "1719/1719 [==============================] - 9s 5ms/step - loss: 0.2568 - accuracy: 0.9023 - val_loss: 0.2717 - val_accuracy: 0.9038 - lr: 1.2500e-04\n",
      "Epoch 22/25\n",
      "1719/1719 [==============================] - 9s 5ms/step - loss: 0.2528 - accuracy: 0.9042 - val_loss: 0.2736 - val_accuracy: 0.9040 - lr: 1.2500e-04\n",
      "Epoch 23/25\n",
      "1719/1719 [==============================] - 10s 6ms/step - loss: 0.2528 - accuracy: 0.9032 - val_loss: 0.2699 - val_accuracy: 0.9084 - lr: 1.2500e-04\n",
      "Epoch 24/25\n",
      "1719/1719 [==============================] - 11s 6ms/step - loss: 0.2512 - accuracy: 0.9029 - val_loss: 0.2712 - val_accuracy: 0.9042 - lr: 1.2500e-04\n",
      "Epoch 25/25\n",
      "1719/1719 [==============================] - 11s 6ms/step - loss: 0.2511 - accuracy: 0.9029 - val_loss: 0.2708 - val_accuracy: 0.9042 - lr: 1.2500e-04\n"
     ]
    }
   ],
   "source": [
    "model = keras.models.Sequential([\n",
    "    keras.layers.Flatten(input_shape=[28, 28]),\n",
    "    keras.layers.Dropout(rate=0.2),\n",
    "    keras.layers.Dense(300, activation=\"relu\", kernel_initializer=\"he_normal\"),\n",
    "    keras.layers.Dropout(rate=0.2),\n",
    "    keras.layers.Dense(100, activation=\"relu\", kernel_initializer=\"he_normal\"),\n",
    "    keras.layers.Dropout(rate=0.2),\n",
    "    keras.layers.Dense(10, activation=\"softmax\")\n",
    "])\n",
    "model.compile(loss=\"sparse_categorical_crossentropy\", optimizer=\"nadam\", metrics=[\"accuracy\"])\n",
    "n_epochs = 25\n",
    "history = model.fit(X_train, y_train, epochs=n_epochs,\n",
    "                    validation_data=(X_valid, y_valid),\n",
    "                    callbacks=[lr_scheduler])"
   ]
  },
  {
   "cell_type": "markdown",
   "metadata": {},
   "source": [
    "↑↑↑↑↑↑↑↑↑↑↑↑↑↑↑↑↑↑↑↑↑↑↑↑↑↑↑↑↑↑↑ your code goes above"
   ]
  },
  {
   "cell_type": "code",
   "execution_count": 53,
   "metadata": {},
   "outputs": [
    {
     "name": "stdout",
     "output_type": "stream",
     "text": [
      "313/313 [==============================] - 1s 4ms/step - loss: 0.2958 - accuracy: 0.8923\n"
     ]
    },
    {
     "data": {
      "text/plain": [
       "[0.2958023250102997, 0.892300009727478]"
      ]
     },
     "execution_count": 53,
     "metadata": {},
     "output_type": "execute_result"
    }
   ],
   "source": [
    "model.evaluate(X_test, y_test)"
   ]
  },
  {
   "cell_type": "code",
   "execution_count": 54,
   "metadata": {},
   "outputs": [
    {
     "data": {
      "image/png": "[encoded data removed]",
      "text/plain": [
       "<Figure size 432x288 with 2 Axes>"
      ]
     },
     "metadata": {
      "needs_background": "light"
     },
     "output_type": "display_data"
    }
   ],
   "source": [
    "plt.plot(history.epoch, history.history[\"lr\"], \"bo-\")\n",
    "plt.xlabel(\"Epoch\")\n",
    "plt.ylabel(\"Learning Rate\", color='b')\n",
    "plt.tick_params('y', colors='b')\n",
    "plt.gca().set_xlim(0, n_epochs - 1)\n",
    "plt.grid(True)\n",
    "\n",
    "ax2 = plt.gca().twinx()\n",
    "ax2.plot(history.epoch, history.history[\"val_loss\"], \"r^-\")\n",
    "ax2.set_ylabel('Validation Loss', color='r')\n",
    "ax2.tick_params('y', colors='r')\n",
    "\n",
    "plt.title(\"Reduce LR on Plateau (with dropout)\", fontsize=14)\n",
    "plt.show()"
   ]
  },
  {
   "cell_type": "markdown",
   "metadata": {},
   "source": [
    "# Optional Exercise (Bonus points): Using Callbacks during Training"
   ]
  },
  {
   "cell_type": "markdown",
   "metadata": {},
   "source": [
    "**Task 8:** Add to your model of Task 7 the following callbacks (check Chapter 10 and https://keras.io/api/callbacks/)   \n",
    "a) Checkpoint   \n",
    "b) Early stopping (5 epochs)   \n",
    "c) Tensorboard log   \n",
    "d) Discuss the result "
   ]
  },
  {
   "cell_type": "code",
   "execution_count": 55,
   "metadata": {},
   "outputs": [],
   "source": [
    "# model = "
   ]
  },
  {
   "cell_type": "code",
   "execution_count": null,
   "metadata": {},
   "outputs": [],
   "source": [
    "#Define callbacks\n",
    "lr_scheduler = keras.callbacks.ReduceLROnPlateau(factor=0.5, patience=2)\n",
    "early_stopping_cb = \n",
    "model_checkpoint_cb =\n",
    "tensorboard_cb ="
   ]
  },
  {
   "cell_type": "code",
   "execution_count": null,
   "metadata": {},
   "outputs": [],
   "source": [
    "callbacks = [lr_scheduler, early_stopping_cb, model_checkpoint_cb, tensorboard_cb]"
   ]
  },
  {
   "cell_type": "code",
   "execution_count": null,
   "metadata": {},
   "outputs": [],
   "source": [
    "optimizer = keras.optimizers.Adam(lr=0.01)\n",
    "\n",
    "model.compile(loss=\"sparse_categorical_crossentropy\", optimizer=optimizer, metrics=[\"accuracy\"])\n",
    "n_epochs = 50\n",
    "history = model.fit(X_train, y_train, epochs=n_epochs,\n",
    "                    validation_data=(X_valid, y_valid),\n",
    "                    callbacks=callbacks)"
   ]
  },
  {
   "cell_type": "code",
   "execution_count": null,
   "metadata": {},
   "outputs": [],
   "source": [
    "%load_ext tensorboard\n",
    "%tensorboard --logdir=./my_fashion_logs --port=6006"
   ]
  },
  {
   "cell_type": "code",
   "execution_count": null,
   "metadata": {},
   "outputs": [],
   "source": []
  }
 ],
 "metadata": {
  "kernelspec": {
   "display_name": "Python 3",
   "language": "python",
   "name": "python3"
  },
  "language_info": {
   "codemirror_mode": {
    "name": "ipython",
    "version": 3
   },
   "file_extension": ".py",
   "mimetype": "text/x-python",
   "name": "python",
   "nbconvert_exporter": "python",
   "pygments_lexer": "ipython3",
   "version": "3.10.0"
  },
  "nav_menu": {
   "height": "360px",
   "width": "416px"
  },
  "toc": {
   "navigate_menu": true,
   "number_sections": true,
   "sideBar": true,
   "threshold": 6,
   "toc_cell": false,
   "toc_section_display": "block",
   "toc_window_display": false
  }
 },
 "nbformat": 4,
 "nbformat_minor": 4
}
